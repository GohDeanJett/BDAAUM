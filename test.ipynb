{
 "cells": [
  {
   "cell_type": "code",
   "execution_count": 7,
   "metadata": {},
   "outputs": [],
   "source": [
    "import numpy as np\n",
    "import pandas as pd\n",
    "import ipywidgets as widgets\n",
    "\n"
   ]
  },
  {
   "cell_type": "code",
   "execution_count": 8,
   "metadata": {},
   "outputs": [],
   "source": [
    "\n",
    "style = {'description_width': 'initial'}\n",
    "\n",
    "m = widgets.IntSlider(\n",
    "    description='Select movie_id you want:',\n",
    ")"
   ]
  },
  {
   "cell_type": "code",
   "execution_count": 12,
   "metadata": {},
   "outputs": [],
   "source": [
    "# Function to print top N similar movies\n",
    "def print_similar_movies(movieID):\n",
    "    movie_data = pd.read_csv(\"movie_data.csv\")\n",
    "    movie_name = {}\n",
    "    for i in range(len(movie_data.movie_id)):\n",
    "        movie_name[movie_data.movie_id[i]] = movie_data.title[i]\n",
    "    sliced = pd.read_csv(\"sliced.csv\")\n",
    "    sliced = sliced.to_numpy()\n",
    "    index = movieID - 1 # Movie id starts from 1 in the dataset\n",
    "    movie_row = sliced[index, :]\n",
    "    magnitude = np.sqrt(np.einsum('ij, ij -> i', sliced, sliced))\n",
    "    similarity = np.dot(movie_row, sliced.T) / (magnitude[index] * magnitude)\n",
    "    sort_indexes = np.argsort(-similarity)\n",
    "    indexes = sort_indexes[:10]    \n",
    "    for i in indexes:\n",
    "        print(movie_name[i])"
   ]
  },
  {
   "cell_type": "code",
   "execution_count": 13,
   "metadata": {},
   "outputs": [],
   "source": [
    "a = widgets.interactive(print_similar_movies, movieID = m)"
   ]
  },
  {
   "cell_type": "code",
   "execution_count": 14,
   "metadata": {},
   "outputs": [
    {
     "data": {
      "application/vnd.jupyter.widget-view+json": {
       "model_id": "558b5ff4910249fa83b6546ebe8cb05a",
       "version_major": 2,
       "version_minor": 0
      },
      "text/plain": [
       "interactive(children=(IntSlider(value=0, description='Select movie_id you want:'), Output()), _dom_classes=('w…"
      ]
     },
     "metadata": {},
     "output_type": "display_data"
    }
   ],
   "source": [
    "a"
   ]
  },
  {
   "cell_type": "code",
   "execution_count": null,
   "metadata": {},
   "outputs": [],
   "source": []
  },
  {
   "cell_type": "code",
   "execution_count": null,
   "metadata": {},
   "outputs": [],
   "source": []
  }
 ],
 "metadata": {
  "kernelspec": {
   "display_name": "Python 3",
   "language": "python",
   "name": "python3"
  },
  "language_info": {
   "codemirror_mode": {
    "name": "ipython",
    "version": 3
   },
   "file_extension": ".py",
   "mimetype": "text/x-python",
   "name": "python",
   "nbconvert_exporter": "python",
   "pygments_lexer": "ipython3",
   "version": "3.8.3"
  }
 },
 "nbformat": 4,
 "nbformat_minor": 4
}
